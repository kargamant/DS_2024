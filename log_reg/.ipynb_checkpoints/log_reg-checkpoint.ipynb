{
 "cells": [
  {
   "cell_type": "code",
   "execution_count": 115,
   "id": "4bb71ecb-6b9f-492b-97ea-60221919464d",
   "metadata": {},
   "outputs": [],
   "source": [
    "import pandas as pd\n",
    "import numpy as np\n",
    "import statsmodels.api as st\n",
    "from math import exp"
   ]
  },
  {
   "cell_type": "markdown",
   "id": "aad30e55-4ddf-45f1-97b8-49d8dab5ebb3",
   "metadata": {},
   "source": [
    "### Just preparing data"
   ]
  },
  {
   "cell_type": "code",
   "execution_count": 29,
   "id": "0e29e090-e93a-4475-a79a-5291a9e6fe5e",
   "metadata": {},
   "outputs": [],
   "source": [
    "df = pd.read_csv(\"survey.csv\")"
   ]
  },
  {
   "cell_type": "code",
   "execution_count": 30,
   "id": "2a19082f-5824-4dde-b736-9e31e9319308",
   "metadata": {},
   "outputs": [
    {
     "data": {
      "text/html": [
       "<div>\n",
       "<style scoped>\n",
       "    .dataframe tbody tr th:only-of-type {\n",
       "        vertical-align: middle;\n",
       "    }\n",
       "\n",
       "    .dataframe tbody tr th {\n",
       "        vertical-align: top;\n",
       "    }\n",
       "\n",
       "    .dataframe thead th {\n",
       "        text-align: right;\n",
       "    }\n",
       "</style>\n",
       "<table border=\"1\" class=\"dataframe\">\n",
       "  <thead>\n",
       "    <tr style=\"text-align: right;\">\n",
       "      <th></th>\n",
       "      <th>MYDEPV</th>\n",
       "      <th>Price</th>\n",
       "      <th>Income</th>\n",
       "      <th>Age</th>\n",
       "    </tr>\n",
       "  </thead>\n",
       "  <tbody>\n",
       "    <tr>\n",
       "      <th>0</th>\n",
       "      <td>1</td>\n",
       "      <td>10</td>\n",
       "      <td>33</td>\n",
       "      <td>37</td>\n",
       "    </tr>\n",
       "    <tr>\n",
       "      <th>1</th>\n",
       "      <td>0</td>\n",
       "      <td>20</td>\n",
       "      <td>21</td>\n",
       "      <td>55</td>\n",
       "    </tr>\n",
       "    <tr>\n",
       "      <th>2</th>\n",
       "      <td>1</td>\n",
       "      <td>30</td>\n",
       "      <td>59</td>\n",
       "      <td>55</td>\n",
       "    </tr>\n",
       "    <tr>\n",
       "      <th>3</th>\n",
       "      <td>1</td>\n",
       "      <td>20</td>\n",
       "      <td>76</td>\n",
       "      <td>44</td>\n",
       "    </tr>\n",
       "    <tr>\n",
       "      <th>4</th>\n",
       "      <td>0</td>\n",
       "      <td>30</td>\n",
       "      <td>24</td>\n",
       "      <td>37</td>\n",
       "    </tr>\n",
       "    <tr>\n",
       "      <th>...</th>\n",
       "      <td>...</td>\n",
       "      <td>...</td>\n",
       "      <td>...</td>\n",
       "      <td>...</td>\n",
       "    </tr>\n",
       "    <tr>\n",
       "      <th>745</th>\n",
       "      <td>0</td>\n",
       "      <td>30</td>\n",
       "      <td>25</td>\n",
       "      <td>27</td>\n",
       "    </tr>\n",
       "    <tr>\n",
       "      <th>746</th>\n",
       "      <td>0</td>\n",
       "      <td>10</td>\n",
       "      <td>29</td>\n",
       "      <td>32</td>\n",
       "    </tr>\n",
       "    <tr>\n",
       "      <th>747</th>\n",
       "      <td>0</td>\n",
       "      <td>10</td>\n",
       "      <td>55</td>\n",
       "      <td>36</td>\n",
       "    </tr>\n",
       "    <tr>\n",
       "      <th>748</th>\n",
       "      <td>0</td>\n",
       "      <td>30</td>\n",
       "      <td>21</td>\n",
       "      <td>37</td>\n",
       "    </tr>\n",
       "    <tr>\n",
       "      <th>749</th>\n",
       "      <td>0</td>\n",
       "      <td>30</td>\n",
       "      <td>28</td>\n",
       "      <td>38</td>\n",
       "    </tr>\n",
       "  </tbody>\n",
       "</table>\n",
       "<p>750 rows × 4 columns</p>\n",
       "</div>"
      ],
      "text/plain": [
       "     MYDEPV  Price  Income  Age\n",
       "0         1     10      33   37\n",
       "1         0     20      21   55\n",
       "2         1     30      59   55\n",
       "3         1     20      76   44\n",
       "4         0     30      24   37\n",
       "..      ...    ...     ...  ...\n",
       "745       0     30      25   27\n",
       "746       0     10      29   32\n",
       "747       0     10      55   36\n",
       "748       0     30      21   37\n",
       "749       0     30      28   38\n",
       "\n",
       "[750 rows x 4 columns]"
      ]
     },
     "execution_count": 30,
     "metadata": {},
     "output_type": "execute_result"
    }
   ],
   "source": [
    "df"
   ]
  },
  {
   "cell_type": "code",
   "execution_count": 31,
   "id": "27dcb6a5-9dc4-4d82-bd38-474cc23cf97a",
   "metadata": {},
   "outputs": [],
   "source": [
    "df[\"ones\"] = [1]*750"
   ]
  },
  {
   "cell_type": "code",
   "execution_count": 32,
   "id": "4d76df6a-1ac0-423e-b259-501ee7670a4e",
   "metadata": {},
   "outputs": [],
   "source": [
    "ls_prices = (20, 30, 10)\n",
    "for _ in range(2):\n",
    "    mask = df[\"Price\"].mask(df[\"Price\"]==ls_prices[0], 1)\n",
    "    mask = mask.mask((mask==ls_prices[1]) | (mask==ls_prices[2]), 0)\n",
    "    df[f'price{ls_prices[0]}'] = mask\n",
    "    ls_prices = ls_prices[1::] + ls_prices[:1:]"
   ]
  },
  {
   "cell_type": "code",
   "execution_count": 33,
   "id": "72d02563-0322-440d-bf60-f5a2d7167515",
   "metadata": {},
   "outputs": [],
   "source": [
    "df = df.drop(\"Price\", axis=1)"
   ]
  },
  {
   "cell_type": "code",
   "execution_count": 34,
   "id": "44c1a2d1-2710-4db9-aa7d-5ec7e7cc5b24",
   "metadata": {},
   "outputs": [
    {
     "data": {
      "text/html": [
       "<div>\n",
       "<style scoped>\n",
       "    .dataframe tbody tr th:only-of-type {\n",
       "        vertical-align: middle;\n",
       "    }\n",
       "\n",
       "    .dataframe tbody tr th {\n",
       "        vertical-align: top;\n",
       "    }\n",
       "\n",
       "    .dataframe thead th {\n",
       "        text-align: right;\n",
       "    }\n",
       "</style>\n",
       "<table border=\"1\" class=\"dataframe\">\n",
       "  <thead>\n",
       "    <tr style=\"text-align: right;\">\n",
       "      <th></th>\n",
       "      <th>MYDEPV</th>\n",
       "      <th>Income</th>\n",
       "      <th>Age</th>\n",
       "      <th>ones</th>\n",
       "      <th>price20</th>\n",
       "      <th>price30</th>\n",
       "    </tr>\n",
       "  </thead>\n",
       "  <tbody>\n",
       "    <tr>\n",
       "      <th>0</th>\n",
       "      <td>1</td>\n",
       "      <td>33</td>\n",
       "      <td>37</td>\n",
       "      <td>1</td>\n",
       "      <td>0</td>\n",
       "      <td>0</td>\n",
       "    </tr>\n",
       "    <tr>\n",
       "      <th>1</th>\n",
       "      <td>0</td>\n",
       "      <td>21</td>\n",
       "      <td>55</td>\n",
       "      <td>1</td>\n",
       "      <td>1</td>\n",
       "      <td>0</td>\n",
       "    </tr>\n",
       "    <tr>\n",
       "      <th>2</th>\n",
       "      <td>1</td>\n",
       "      <td>59</td>\n",
       "      <td>55</td>\n",
       "      <td>1</td>\n",
       "      <td>0</td>\n",
       "      <td>1</td>\n",
       "    </tr>\n",
       "    <tr>\n",
       "      <th>3</th>\n",
       "      <td>1</td>\n",
       "      <td>76</td>\n",
       "      <td>44</td>\n",
       "      <td>1</td>\n",
       "      <td>1</td>\n",
       "      <td>0</td>\n",
       "    </tr>\n",
       "    <tr>\n",
       "      <th>4</th>\n",
       "      <td>0</td>\n",
       "      <td>24</td>\n",
       "      <td>37</td>\n",
       "      <td>1</td>\n",
       "      <td>0</td>\n",
       "      <td>1</td>\n",
       "    </tr>\n",
       "    <tr>\n",
       "      <th>...</th>\n",
       "      <td>...</td>\n",
       "      <td>...</td>\n",
       "      <td>...</td>\n",
       "      <td>...</td>\n",
       "      <td>...</td>\n",
       "      <td>...</td>\n",
       "    </tr>\n",
       "    <tr>\n",
       "      <th>745</th>\n",
       "      <td>0</td>\n",
       "      <td>25</td>\n",
       "      <td>27</td>\n",
       "      <td>1</td>\n",
       "      <td>0</td>\n",
       "      <td>1</td>\n",
       "    </tr>\n",
       "    <tr>\n",
       "      <th>746</th>\n",
       "      <td>0</td>\n",
       "      <td>29</td>\n",
       "      <td>32</td>\n",
       "      <td>1</td>\n",
       "      <td>0</td>\n",
       "      <td>0</td>\n",
       "    </tr>\n",
       "    <tr>\n",
       "      <th>747</th>\n",
       "      <td>0</td>\n",
       "      <td>55</td>\n",
       "      <td>36</td>\n",
       "      <td>1</td>\n",
       "      <td>0</td>\n",
       "      <td>0</td>\n",
       "    </tr>\n",
       "    <tr>\n",
       "      <th>748</th>\n",
       "      <td>0</td>\n",
       "      <td>21</td>\n",
       "      <td>37</td>\n",
       "      <td>1</td>\n",
       "      <td>0</td>\n",
       "      <td>1</td>\n",
       "    </tr>\n",
       "    <tr>\n",
       "      <th>749</th>\n",
       "      <td>0</td>\n",
       "      <td>28</td>\n",
       "      <td>38</td>\n",
       "      <td>1</td>\n",
       "      <td>0</td>\n",
       "      <td>1</td>\n",
       "    </tr>\n",
       "  </tbody>\n",
       "</table>\n",
       "<p>750 rows × 6 columns</p>\n",
       "</div>"
      ],
      "text/plain": [
       "     MYDEPV  Income  Age  ones  price20  price30\n",
       "0         1      33   37     1        0        0\n",
       "1         0      21   55     1        1        0\n",
       "2         1      59   55     1        0        1\n",
       "3         1      76   44     1        1        0\n",
       "4         0      24   37     1        0        1\n",
       "..      ...     ...  ...   ...      ...      ...\n",
       "745       0      25   27     1        0        1\n",
       "746       0      29   32     1        0        0\n",
       "747       0      55   36     1        0        0\n",
       "748       0      21   37     1        0        1\n",
       "749       0      28   38     1        0        1\n",
       "\n",
       "[750 rows x 6 columns]"
      ]
     },
     "execution_count": 34,
     "metadata": {},
     "output_type": "execute_result"
    }
   ],
   "source": [
    "df"
   ]
  },
  {
   "cell_type": "markdown",
   "id": "bcbac2a9-1886-445e-9739-cfd978bf7d0c",
   "metadata": {},
   "source": [
    "### Splitting into train test"
   ]
  },
  {
   "cell_type": "code",
   "execution_count": 78,
   "id": "cd2a84b2-540b-4281-8858-6dfb9e85302a",
   "metadata": {},
   "outputs": [],
   "source": [
    "split_ratio = 0.8\n",
    "split_mask = np.random.rand(df[\"Income\"].count()) < split_ratio\n",
    "train = df[split_mask]\n",
    "test = df[~split_mask]"
   ]
  },
  {
   "cell_type": "code",
   "execution_count": 81,
   "id": "c5b10694-0db3-49ea-8d5c-74c11c663ad7",
   "metadata": {},
   "outputs": [],
   "source": [
    "model = st.Logit(train[\"MYDEPV\"], train[[\"Income\", \"Age\", \"price20\", \"price30\", \"ones\"]])"
   ]
  },
  {
   "cell_type": "code",
   "execution_count": 82,
   "id": "65718f93-b7cb-4bcd-ae98-d733e6e2e10e",
   "metadata": {},
   "outputs": [
    {
     "name": "stdout",
     "output_type": "stream",
     "text": [
      "Optimization terminated successfully.\n",
      "         Current function value: 0.361230\n",
      "         Iterations 7\n"
     ]
    }
   ],
   "source": [
    "model = model.fit()"
   ]
  },
  {
   "cell_type": "code",
   "execution_count": 83,
   "id": "45e436a5-9acf-4720-9682-5bc8198777bf",
   "metadata": {},
   "outputs": [
    {
     "data": {
      "text/html": [
       "<table class=\"simpletable\">\n",
       "<caption>Logit Regression Results</caption>\n",
       "<tr>\n",
       "  <th>Dep. Variable:</th>        <td>MYDEPV</td>      <th>  No. Observations:  </th>  <td>   596</td>  \n",
       "</tr>\n",
       "<tr>\n",
       "  <th>Model:</th>                 <td>Logit</td>      <th>  Df Residuals:      </th>  <td>   591</td>  \n",
       "</tr>\n",
       "<tr>\n",
       "  <th>Method:</th>                 <td>MLE</td>       <th>  Df Model:          </th>  <td>     4</td>  \n",
       "</tr>\n",
       "<tr>\n",
       "  <th>Date:</th>            <td>Sat, 07 Dec 2024</td> <th>  Pseudo R-squ.:     </th>  <td>0.4745</td>  \n",
       "</tr>\n",
       "<tr>\n",
       "  <th>Time:</th>                <td>14:52:34</td>     <th>  Log-Likelihood:    </th> <td> -215.29</td> \n",
       "</tr>\n",
       "<tr>\n",
       "  <th>converged:</th>             <td>True</td>       <th>  LL-Null:           </th> <td> -409.67</td> \n",
       "</tr>\n",
       "<tr>\n",
       "  <th>Covariance Type:</th>     <td>nonrobust</td>    <th>  LLR p-value:       </th> <td>7.460e-83</td>\n",
       "</tr>\n",
       "</table>\n",
       "<table class=\"simpletable\">\n",
       "<tr>\n",
       "     <td></td>        <th>coef</th>     <th>std err</th>      <th>z</th>      <th>P>|z|</th>  <th>[0.025</th>    <th>0.975]</th>  \n",
       "</tr>\n",
       "<tr>\n",
       "  <th>Income</th>  <td>    0.1241</td> <td>    0.010</td> <td>   12.360</td> <td> 0.000</td> <td>    0.104</td> <td>    0.144</td>\n",
       "</tr>\n",
       "<tr>\n",
       "  <th>Age</th>     <td>    0.0356</td> <td>    0.013</td> <td>    2.709</td> <td> 0.007</td> <td>    0.010</td> <td>    0.061</td>\n",
       "</tr>\n",
       "<tr>\n",
       "  <th>price20</th> <td>   -0.7148</td> <td>    0.291</td> <td>   -2.452</td> <td> 0.014</td> <td>   -1.286</td> <td>   -0.143</td>\n",
       "</tr>\n",
       "<tr>\n",
       "  <th>price30</th> <td>   -2.2058</td> <td>    0.348</td> <td>   -6.339</td> <td> 0.000</td> <td>   -2.888</td> <td>   -1.524</td>\n",
       "</tr>\n",
       "<tr>\n",
       "  <th>ones</th>    <td>   -5.7880</td> <td>    0.578</td> <td>  -10.014</td> <td> 0.000</td> <td>   -6.921</td> <td>   -4.655</td>\n",
       "</tr>\n",
       "</table>"
      ],
      "text/latex": [
       "\\begin{center}\n",
       "\\begin{tabular}{lclc}\n",
       "\\toprule\n",
       "\\textbf{Dep. Variable:}   &      MYDEPV      & \\textbf{  No. Observations:  } &      596    \\\\\n",
       "\\textbf{Model:}           &      Logit       & \\textbf{  Df Residuals:      } &      591    \\\\\n",
       "\\textbf{Method:}          &       MLE        & \\textbf{  Df Model:          } &        4    \\\\\n",
       "\\textbf{Date:}            & Sat, 07 Dec 2024 & \\textbf{  Pseudo R-squ.:     } &   0.4745    \\\\\n",
       "\\textbf{Time:}            &     14:52:34     & \\textbf{  Log-Likelihood:    } &   -215.29   \\\\\n",
       "\\textbf{converged:}       &       True       & \\textbf{  LL-Null:           } &   -409.67   \\\\\n",
       "\\textbf{Covariance Type:} &    nonrobust     & \\textbf{  LLR p-value:       } & 7.460e-83   \\\\\n",
       "\\bottomrule\n",
       "\\end{tabular}\n",
       "\\begin{tabular}{lcccccc}\n",
       "                 & \\textbf{coef} & \\textbf{std err} & \\textbf{z} & \\textbf{P$> |$z$|$} & \\textbf{[0.025} & \\textbf{0.975]}  \\\\\n",
       "\\midrule\n",
       "\\textbf{Income}  &       0.1241  &        0.010     &    12.360  &         0.000        &        0.104    &        0.144     \\\\\n",
       "\\textbf{Age}     &       0.0356  &        0.013     &     2.709  &         0.007        &        0.010    &        0.061     \\\\\n",
       "\\textbf{price20} &      -0.7148  &        0.291     &    -2.452  &         0.014        &       -1.286    &       -0.143     \\\\\n",
       "\\textbf{price30} &      -2.2058  &        0.348     &    -6.339  &         0.000        &       -2.888    &       -1.524     \\\\\n",
       "\\textbf{ones}    &      -5.7880  &        0.578     &   -10.014  &         0.000        &       -6.921    &       -4.655     \\\\\n",
       "\\bottomrule\n",
       "\\end{tabular}\n",
       "%\\caption{Logit Regression Results}\n",
       "\\end{center}"
      ],
      "text/plain": [
       "<class 'statsmodels.iolib.summary.Summary'>\n",
       "\"\"\"\n",
       "                           Logit Regression Results                           \n",
       "==============================================================================\n",
       "Dep. Variable:                 MYDEPV   No. Observations:                  596\n",
       "Model:                          Logit   Df Residuals:                      591\n",
       "Method:                           MLE   Df Model:                            4\n",
       "Date:                Sat, 07 Dec 2024   Pseudo R-squ.:                  0.4745\n",
       "Time:                        14:52:34   Log-Likelihood:                -215.29\n",
       "converged:                       True   LL-Null:                       -409.67\n",
       "Covariance Type:            nonrobust   LLR p-value:                 7.460e-83\n",
       "==============================================================================\n",
       "                 coef    std err          z      P>|z|      [0.025      0.975]\n",
       "------------------------------------------------------------------------------\n",
       "Income         0.1241      0.010     12.360      0.000       0.104       0.144\n",
       "Age            0.0356      0.013      2.709      0.007       0.010       0.061\n",
       "price20       -0.7148      0.291     -2.452      0.014      -1.286      -0.143\n",
       "price30       -2.2058      0.348     -6.339      0.000      -2.888      -1.524\n",
       "ones          -5.7880      0.578    -10.014      0.000      -6.921      -4.655\n",
       "==============================================================================\n",
       "\"\"\""
      ]
     },
     "execution_count": 83,
     "metadata": {},
     "output_type": "execute_result"
    }
   ],
   "source": [
    "model.summary()"
   ]
  },
  {
   "cell_type": "markdown",
   "id": "1265eb89-14d7-443c-a1c2-ca49e5a34edc",
   "metadata": {},
   "source": [
    "### Predicting"
   ]
  },
  {
   "cell_type": "code",
   "execution_count": 96,
   "id": "97029853-ca7d-4430-922d-1ee8eabe7726",
   "metadata": {},
   "outputs": [],
   "source": [
    "train_y = model.predict(train[[\"Income\", \"Age\", \"price20\", \"price30\", \"ones\"]])\n",
    "test_y = model.predict(test[[\"Income\", \"Age\", \"price20\", \"price30\", \"ones\"]])"
   ]
  },
  {
   "cell_type": "code",
   "execution_count": 97,
   "id": "ba780a34-505c-4965-978b-18a43aec34c3",
   "metadata": {},
   "outputs": [
    {
     "name": "stderr",
     "output_type": "stream",
     "text": [
      "/tmp/ipykernel_5462/3577024600.py:1: SettingWithCopyWarning: \n",
      "A value is trying to be set on a copy of a slice from a DataFrame.\n",
      "Try using .loc[row_indexer,col_indexer] = value instead\n",
      "\n",
      "See the caveats in the documentation: https://pandas.pydata.org/pandas-docs/stable/user_guide/indexing.html#returning-a-view-versus-a-copy\n",
      "  train[\"odds_ratio\"] = train_y\n",
      "/tmp/ipykernel_5462/3577024600.py:2: SettingWithCopyWarning: \n",
      "A value is trying to be set on a copy of a slice from a DataFrame.\n",
      "Try using .loc[row_indexer,col_indexer] = value instead\n",
      "\n",
      "See the caveats in the documentation: https://pandas.pydata.org/pandas-docs/stable/user_guide/indexing.html#returning-a-view-versus-a-copy\n",
      "  test[\"odds_ratio\"] = test_y\n"
     ]
    }
   ],
   "source": [
    "train[\"odds_ratio\"] = train_y\n",
    "test[\"odds_ratio\"] = test_y"
   ]
  },
  {
   "cell_type": "code",
   "execution_count": 98,
   "id": "af4e41cf-f054-47fd-a399-311c8c20b750",
   "metadata": {},
   "outputs": [
    {
     "data": {
      "text/html": [
       "<div>\n",
       "<style scoped>\n",
       "    .dataframe tbody tr th:only-of-type {\n",
       "        vertical-align: middle;\n",
       "    }\n",
       "\n",
       "    .dataframe tbody tr th {\n",
       "        vertical-align: top;\n",
       "    }\n",
       "\n",
       "    .dataframe thead th {\n",
       "        text-align: right;\n",
       "    }\n",
       "</style>\n",
       "<table border=\"1\" class=\"dataframe\">\n",
       "  <thead>\n",
       "    <tr style=\"text-align: right;\">\n",
       "      <th></th>\n",
       "      <th>MYDEPV</th>\n",
       "      <th>Income</th>\n",
       "      <th>Age</th>\n",
       "      <th>ones</th>\n",
       "      <th>price20</th>\n",
       "      <th>price30</th>\n",
       "      <th>odds_ratio</th>\n",
       "    </tr>\n",
       "  </thead>\n",
       "  <tbody>\n",
       "    <tr>\n",
       "      <th>0</th>\n",
       "      <td>1</td>\n",
       "      <td>33</td>\n",
       "      <td>37</td>\n",
       "      <td>1</td>\n",
       "      <td>0</td>\n",
       "      <td>0</td>\n",
       "      <td>0.407513</td>\n",
       "    </tr>\n",
       "    <tr>\n",
       "      <th>1</th>\n",
       "      <td>0</td>\n",
       "      <td>21</td>\n",
       "      <td>55</td>\n",
       "      <td>1</td>\n",
       "      <td>1</td>\n",
       "      <td>0</td>\n",
       "      <td>0.125850</td>\n",
       "    </tr>\n",
       "    <tr>\n",
       "      <th>2</th>\n",
       "      <td>1</td>\n",
       "      <td>59</td>\n",
       "      <td>55</td>\n",
       "      <td>1</td>\n",
       "      <td>0</td>\n",
       "      <td>1</td>\n",
       "      <td>0.783876</td>\n",
       "    </tr>\n",
       "    <tr>\n",
       "      <th>5</th>\n",
       "      <td>0</td>\n",
       "      <td>22</td>\n",
       "      <td>32</td>\n",
       "      <td>1</td>\n",
       "      <td>1</td>\n",
       "      <td>0</td>\n",
       "      <td>0.067069</td>\n",
       "    </tr>\n",
       "    <tr>\n",
       "      <th>6</th>\n",
       "      <td>1</td>\n",
       "      <td>28</td>\n",
       "      <td>32</td>\n",
       "      <td>1</td>\n",
       "      <td>0</td>\n",
       "      <td>0</td>\n",
       "      <td>0.236323</td>\n",
       "    </tr>\n",
       "  </tbody>\n",
       "</table>\n",
       "</div>"
      ],
      "text/plain": [
       "   MYDEPV  Income  Age  ones  price20  price30  odds_ratio\n",
       "0       1      33   37     1        0        0    0.407513\n",
       "1       0      21   55     1        1        0    0.125850\n",
       "2       1      59   55     1        0        1    0.783876\n",
       "5       0      22   32     1        1        0    0.067069\n",
       "6       1      28   32     1        0        0    0.236323"
      ]
     },
     "execution_count": 98,
     "metadata": {},
     "output_type": "execute_result"
    }
   ],
   "source": [
    "train.head()"
   ]
  },
  {
   "cell_type": "code",
   "execution_count": 99,
   "id": "493b215d-c8c3-4836-b999-de3e91971a32",
   "metadata": {},
   "outputs": [
    {
     "data": {
      "text/html": [
       "<div>\n",
       "<style scoped>\n",
       "    .dataframe tbody tr th:only-of-type {\n",
       "        vertical-align: middle;\n",
       "    }\n",
       "\n",
       "    .dataframe tbody tr th {\n",
       "        vertical-align: top;\n",
       "    }\n",
       "\n",
       "    .dataframe thead th {\n",
       "        text-align: right;\n",
       "    }\n",
       "</style>\n",
       "<table border=\"1\" class=\"dataframe\">\n",
       "  <thead>\n",
       "    <tr style=\"text-align: right;\">\n",
       "      <th></th>\n",
       "      <th>MYDEPV</th>\n",
       "      <th>Income</th>\n",
       "      <th>Age</th>\n",
       "      <th>ones</th>\n",
       "      <th>price20</th>\n",
       "      <th>price30</th>\n",
       "      <th>odds_ratio</th>\n",
       "    </tr>\n",
       "  </thead>\n",
       "  <tbody>\n",
       "    <tr>\n",
       "      <th>3</th>\n",
       "      <td>1</td>\n",
       "      <td>76</td>\n",
       "      <td>44</td>\n",
       "      <td>1</td>\n",
       "      <td>1</td>\n",
       "      <td>0</td>\n",
       "      <td>0.988996</td>\n",
       "    </tr>\n",
       "    <tr>\n",
       "      <th>4</th>\n",
       "      <td>0</td>\n",
       "      <td>24</td>\n",
       "      <td>37</td>\n",
       "      <td>1</td>\n",
       "      <td>0</td>\n",
       "      <td>1</td>\n",
       "      <td>0.024189</td>\n",
       "    </tr>\n",
       "    <tr>\n",
       "      <th>11</th>\n",
       "      <td>0</td>\n",
       "      <td>21</td>\n",
       "      <td>46</td>\n",
       "      <td>1</td>\n",
       "      <td>0</td>\n",
       "      <td>1</td>\n",
       "      <td>0.022988</td>\n",
       "    </tr>\n",
       "    <tr>\n",
       "      <th>12</th>\n",
       "      <td>0</td>\n",
       "      <td>49</td>\n",
       "      <td>44</td>\n",
       "      <td>1</td>\n",
       "      <td>0</td>\n",
       "      <td>1</td>\n",
       "      <td>0.414699</td>\n",
       "    </tr>\n",
       "    <tr>\n",
       "      <th>20</th>\n",
       "      <td>0</td>\n",
       "      <td>24</td>\n",
       "      <td>55</td>\n",
       "      <td>1</td>\n",
       "      <td>0</td>\n",
       "      <td>0</td>\n",
       "      <td>0.299236</td>\n",
       "    </tr>\n",
       "  </tbody>\n",
       "</table>\n",
       "</div>"
      ],
      "text/plain": [
       "    MYDEPV  Income  Age  ones  price20  price30  odds_ratio\n",
       "3        1      76   44     1        1        0    0.988996\n",
       "4        0      24   37     1        0        1    0.024189\n",
       "11       0      21   46     1        0        1    0.022988\n",
       "12       0      49   44     1        0        1    0.414699\n",
       "20       0      24   55     1        0        0    0.299236"
      ]
     },
     "execution_count": 99,
     "metadata": {},
     "output_type": "execute_result"
    }
   ],
   "source": [
    "test.head()"
   ]
  },
  {
   "cell_type": "markdown",
   "id": "8317afc0-76a4-46c5-9608-f1c92862d1f8",
   "metadata": {},
   "source": [
    "### Checking that the probability mass equals counts"
   ]
  },
  {
   "cell_type": "code",
   "execution_count": 94,
   "id": "7bda3ad0-cb47-4e22-bfd3-1ffca513855f",
   "metadata": {},
   "outputs": [
    {
     "data": {
      "text/plain": [
       "266"
      ]
     },
     "execution_count": 94,
     "metadata": {},
     "output_type": "execute_result"
    }
   ],
   "source": [
    "sum(train[\"MYDEPV\"])"
   ]
  },
  {
   "cell_type": "code",
   "execution_count": 95,
   "id": "801978d0-5d01-4202-8aa5-699018596ee5",
   "metadata": {},
   "outputs": [
    {
     "data": {
      "text/plain": [
       "266.00000000000006"
      ]
     },
     "execution_count": 95,
     "metadata": {},
     "output_type": "execute_result"
    }
   ],
   "source": [
    "sum(train[\"odds_ratio\"])"
   ]
  },
  {
   "cell_type": "code",
   "execution_count": 100,
   "id": "2cae00aa-2f4f-4ae5-a1ac-0c0203c93b5d",
   "metadata": {},
   "outputs": [
    {
     "data": {
      "text/plain": [
       "58"
      ]
     },
     "execution_count": 100,
     "metadata": {},
     "output_type": "execute_result"
    }
   ],
   "source": [
    "sum(test[\"MYDEPV\"])"
   ]
  },
  {
   "cell_type": "code",
   "execution_count": 101,
   "id": "39081239-9629-4635-9693-7971d1ea4505",
   "metadata": {},
   "outputs": [
    {
     "data": {
      "text/plain": [
       "64.45054631047128"
      ]
     },
     "execution_count": 101,
     "metadata": {},
     "output_type": "execute_result"
    }
   ],
   "source": [
    "sum(test[\"odds_ratio\"])"
   ]
  },
  {
   "cell_type": "code",
   "execution_count": 114,
   "id": "71f08259-9d95-4a03-be6b-e6faf5490ab2",
   "metadata": {},
   "outputs": [
    {
     "data": {
      "text/plain": [
       "Income     0.124147\n",
       "Age        0.035591\n",
       "price20   -0.714785\n",
       "price30   -2.205811\n",
       "ones      -5.787987\n",
       "dtype: float64"
      ]
     },
     "execution_count": 114,
     "metadata": {},
     "output_type": "execute_result"
    }
   ],
   "source": [
    "model.params"
   ]
  },
  {
   "cell_type": "code",
   "execution_count": 118,
   "id": "e3a75cb7-d60c-4392-a0bc-bebb1ad17031",
   "metadata": {},
   "outputs": [],
   "source": [
    "log_odds_ratio = model.params[0]*58 + model.params[1]*25 + model.params[2] + model.params[4]\n",
    "prob = 1/(1+exp(-log_odds_ratio))"
   ]
  },
  {
   "cell_type": "code",
   "execution_count": 119,
   "id": "9eb8149b-01b1-4506-8523-a8ed4b7bcf9a",
   "metadata": {},
   "outputs": [
    {
     "data": {
      "text/plain": [
       "0.8302703540136706"
      ]
     },
     "execution_count": 119,
     "metadata": {},
     "output_type": "execute_result"
    }
   ],
   "source": [
    "prob"
   ]
  }
 ],
 "metadata": {
  "kernelspec": {
   "display_name": "Python 3 (ipykernel)",
   "language": "python",
   "name": "python3"
  },
  "language_info": {
   "codemirror_mode": {
    "name": "ipython",
    "version": 3
   },
   "file_extension": ".py",
   "mimetype": "text/x-python",
   "name": "python",
   "nbconvert_exporter": "python",
   "pygments_lexer": "ipython3",
   "version": "3.8.10"
  }
 },
 "nbformat": 4,
 "nbformat_minor": 5
}
